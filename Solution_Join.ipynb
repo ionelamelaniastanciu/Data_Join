{
 "cells": [
  {
   "cell_type": "code",
   "execution_count": 1,
   "id": "c1663877",
   "metadata": {},
   "outputs": [],
   "source": [
    "import pandas as pd\n",
    "import numpy as np"
   ]
  },
  {
   "cell_type": "markdown",
   "id": "cf2b1350",
   "metadata": {},
   "source": [
    "### Facebook data"
   ]
  },
  {
   "cell_type": "code",
   "execution_count": 2,
   "id": "9b26c224",
   "metadata": {},
   "outputs": [],
   "source": [
    "df_facebook = pd.read_csv(\"facebook_dataset.csv\", on_bad_lines='skip')"
   ]
  },
  {
   "cell_type": "code",
   "execution_count": 3,
   "id": "0931da8a",
   "metadata": {},
   "outputs": [
    {
     "data": {
      "text/html": [
       "<div>\n",
       "<style scoped>\n",
       "    .dataframe tbody tr th:only-of-type {\n",
       "        vertical-align: middle;\n",
       "    }\n",
       "\n",
       "    .dataframe tbody tr th {\n",
       "        vertical-align: top;\n",
       "    }\n",
       "\n",
       "    .dataframe thead th {\n",
       "        text-align: right;\n",
       "    }\n",
       "</style>\n",
       "<table border=\"1\" class=\"dataframe\">\n",
       "  <thead>\n",
       "    <tr style=\"text-align: right;\">\n",
       "      <th></th>\n",
       "      <th>domain</th>\n",
       "      <th>address</th>\n",
       "      <th>categories</th>\n",
       "      <th>city</th>\n",
       "      <th>country_code</th>\n",
       "      <th>country_name</th>\n",
       "      <th>description</th>\n",
       "      <th>email</th>\n",
       "      <th>link</th>\n",
       "      <th>name</th>\n",
       "      <th>page_type</th>\n",
       "      <th>phone</th>\n",
       "      <th>phone_country_code</th>\n",
       "      <th>region_code</th>\n",
       "      <th>region_name</th>\n",
       "      <th>zip_code</th>\n",
       "    </tr>\n",
       "  </thead>\n",
       "  <tbody>\n",
       "    <tr>\n",
       "      <th>0</th>\n",
       "      <td>euro-hygiene-34.fr</td>\n",
       "      <td>134 rue entrepreneurs, za du vigné, 30420, cal...</td>\n",
       "      <td>NaN</td>\n",
       "      <td>calvisson</td>\n",
       "      <td>fr</td>\n",
       "      <td>france</td>\n",
       "      <td>NaN</td>\n",
       "      <td>NaN</td>\n",
       "      <td>https://euro-hygiene-34.fr</td>\n",
       "      <td>Euro Hygiène</td>\n",
       "      <td>LocalBusiness</td>\n",
       "      <td>NaN</td>\n",
       "      <td>NaN</td>\n",
       "      <td>occ</td>\n",
       "      <td>occitanie</td>\n",
       "      <td>30420</td>\n",
       "    </tr>\n",
       "    <tr>\n",
       "      <th>1</th>\n",
       "      <td>lakesidehomeservices.ca</td>\n",
       "      <td>NaN</td>\n",
       "      <td>Appliance Repair &amp; Maintenance|Home Builders &amp;...</td>\n",
       "      <td>NaN</td>\n",
       "      <td>ca</td>\n",
       "      <td>NaN</td>\n",
       "      <td>NaN</td>\n",
       "      <td>NaN</td>\n",
       "      <td>https://lakesidehomeservices.ca</td>\n",
       "      <td>Lakeside Home Services</td>\n",
       "      <td>LocalBusiness</td>\n",
       "      <td>1.613832e+10</td>\n",
       "      <td>ca</td>\n",
       "      <td>NaN</td>\n",
       "      <td>NaN</td>\n",
       "      <td>NaN</td>\n",
       "    </tr>\n",
       "    <tr>\n",
       "      <th>2</th>\n",
       "      <td>rossiterboats.com</td>\n",
       "      <td>NaN</td>\n",
       "      <td>Boats &amp; Yachts Dealers|Boat Tours &amp; Cruises</td>\n",
       "      <td>NaN</td>\n",
       "      <td>NaN</td>\n",
       "      <td>NaN</td>\n",
       "      <td>At Rossiter Boats we build semi-custom power b...</td>\n",
       "      <td>info@rossiterboats.com</td>\n",
       "      <td>http://rossiterboats.com</td>\n",
       "      <td>Rossiter Boats</td>\n",
       "      <td>LocalBusiness</td>\n",
       "      <td>NaN</td>\n",
       "      <td>NaN</td>\n",
       "      <td>NaN</td>\n",
       "      <td>NaN</td>\n",
       "      <td>NaN</td>\n",
       "    </tr>\n",
       "    <tr>\n",
       "      <th>3</th>\n",
       "      <td>caa-architecture.com</td>\n",
       "      <td>601 cordova st w # 270, v6b 1g1, vancouver, bc...</td>\n",
       "      <td>Architects &amp; Architectural Services|Other Engi...</td>\n",
       "      <td>vancouver</td>\n",
       "      <td>ca</td>\n",
       "      <td>canada</td>\n",
       "      <td>NaN</td>\n",
       "      <td>office@caa-arcitecture.com</td>\n",
       "      <td>http://caa-architecture.com</td>\n",
       "      <td>Chandler Associates Architecture Inc.</td>\n",
       "      <td>LocalBusiness</td>\n",
       "      <td>1.604687e+10</td>\n",
       "      <td>ca</td>\n",
       "      <td>bc</td>\n",
       "      <td>british columbia</td>\n",
       "      <td>v6b 1g1</td>\n",
       "    </tr>\n",
       "    <tr>\n",
       "      <th>4</th>\n",
       "      <td>apexsurety.ca</td>\n",
       "      <td>unit 3 - 4 donald street, r3l 2t7, winnipeg, m...</td>\n",
       "      <td>NaN</td>\n",
       "      <td>winnipeg</td>\n",
       "      <td>ca</td>\n",
       "      <td>canada</td>\n",
       "      <td>NaN</td>\n",
       "      <td>NaN</td>\n",
       "      <td>https://apexsurety.ca</td>\n",
       "      <td>Apex Surety &amp; Insurance Ltd.</td>\n",
       "      <td>LocalBusiness</td>\n",
       "      <td>1.204560e+10</td>\n",
       "      <td>ca</td>\n",
       "      <td>mb</td>\n",
       "      <td>manitoba</td>\n",
       "      <td>r3l 2t7</td>\n",
       "    </tr>\n",
       "    <tr>\n",
       "      <th>5</th>\n",
       "      <td>collins-cc.edu</td>\n",
       "      <td>NaN</td>\n",
       "      <td>Other schools|High Schools|Community Center|Ad...</td>\n",
       "      <td>NaN</td>\n",
       "      <td>NaN</td>\n",
       "      <td>NaN</td>\n",
       "      <td>NaN</td>\n",
       "      <td>NaN</td>\n",
       "      <td>https://collins-cc.edu</td>\n",
       "      <td>Collins Career Technical Center</td>\n",
       "      <td>LocalBusiness</td>\n",
       "      <td>NaN</td>\n",
       "      <td>NaN</td>\n",
       "      <td>NaN</td>\n",
       "      <td>NaN</td>\n",
       "      <td>NaN</td>\n",
       "    </tr>\n",
       "    <tr>\n",
       "      <th>6</th>\n",
       "      <td>dovercheese.com</td>\n",
       "      <td>307 main street, n0a 1n0, port dover, on, cana...</td>\n",
       "      <td>NaN</td>\n",
       "      <td>port dover</td>\n",
       "      <td>ca</td>\n",
       "      <td>canada</td>\n",
       "      <td>The Dover Cheese Shop is a food lover’s paradi...</td>\n",
       "      <td>info@dovercheese.com</td>\n",
       "      <td>http://dovercheese.com</td>\n",
       "      <td>The Dover Cheese Shop</td>\n",
       "      <td>LocalBusiness</td>\n",
       "      <td>NaN</td>\n",
       "      <td>NaN</td>\n",
       "      <td>on</td>\n",
       "      <td>ontario</td>\n",
       "      <td>n0a 1n0</td>\n",
       "    </tr>\n",
       "    <tr>\n",
       "      <th>7</th>\n",
       "      <td>alphascientific.ca</td>\n",
       "      <td>8623 granville street unit 143, v6p 5a2, vanco...</td>\n",
       "      <td>Medical Supply Manufacturers</td>\n",
       "      <td>vancouver</td>\n",
       "      <td>ca</td>\n",
       "      <td>canada</td>\n",
       "      <td>www.alphascientific.ca Alpha Scientific Repair...</td>\n",
       "      <td>sales@alphascientific.ca</td>\n",
       "      <td>http://alphascientific.ca</td>\n",
       "      <td>Alpha Scientific Repair Services Ltd.</td>\n",
       "      <td>LocalBusiness</td>\n",
       "      <td>1.604690e+10</td>\n",
       "      <td>ca</td>\n",
       "      <td>bc</td>\n",
       "      <td>british columbia</td>\n",
       "      <td>v6p 5a2</td>\n",
       "    </tr>\n",
       "    <tr>\n",
       "      <th>8</th>\n",
       "      <td>modernmama.com</td>\n",
       "      <td>NaN</td>\n",
       "      <td>Book Publisher</td>\n",
       "      <td>NaN</td>\n",
       "      <td>NaN</td>\n",
       "      <td>NaN</td>\n",
       "      <td>NaN</td>\n",
       "      <td>NaN</td>\n",
       "      <td>https://modernmama.com/edmonton</td>\n",
       "      <td>Modern Mama Edmonton</td>\n",
       "      <td>Person</td>\n",
       "      <td>NaN</td>\n",
       "      <td>NaN</td>\n",
       "      <td>NaN</td>\n",
       "      <td>NaN</td>\n",
       "      <td>NaN</td>\n",
       "    </tr>\n",
       "    <tr>\n",
       "      <th>9</th>\n",
       "      <td>unitysodfarm.com</td>\n",
       "      <td>2989 unity road, k0h 1m0, kingston, on, canada...</td>\n",
       "      <td>Agriculture &amp; Farm Associations|Garden Equipme...</td>\n",
       "      <td>NaN</td>\n",
       "      <td>ca</td>\n",
       "      <td>NaN</td>\n",
       "      <td>Kingston's local supplier of quality sod, seed...</td>\n",
       "      <td>info@unitysodfarm.com</td>\n",
       "      <td>http://unitysodfarm.com</td>\n",
       "      <td>Unity Sod Farm Ltd</td>\n",
       "      <td>LocalBusiness</td>\n",
       "      <td>1.613389e+10</td>\n",
       "      <td>ca</td>\n",
       "      <td>NaN</td>\n",
       "      <td>NaN</td>\n",
       "      <td>NaN</td>\n",
       "    </tr>\n",
       "  </tbody>\n",
       "</table>\n",
       "</div>"
      ],
      "text/plain": [
       "                    domain                                            address  \\\n",
       "0       euro-hygiene-34.fr  134 rue entrepreneurs, za du vigné, 30420, cal...   \n",
       "1  lakesidehomeservices.ca                                                NaN   \n",
       "2        rossiterboats.com                                                NaN   \n",
       "3     caa-architecture.com  601 cordova st w # 270, v6b 1g1, vancouver, bc...   \n",
       "4            apexsurety.ca  unit 3 - 4 donald street, r3l 2t7, winnipeg, m...   \n",
       "5           collins-cc.edu                                                NaN   \n",
       "6          dovercheese.com  307 main street, n0a 1n0, port dover, on, cana...   \n",
       "7       alphascientific.ca  8623 granville street unit 143, v6p 5a2, vanco...   \n",
       "8           modernmama.com                                                NaN   \n",
       "9         unitysodfarm.com  2989 unity road, k0h 1m0, kingston, on, canada...   \n",
       "\n",
       "                                          categories        city country_code  \\\n",
       "0                                                NaN   calvisson           fr   \n",
       "1  Appliance Repair & Maintenance|Home Builders &...         NaN           ca   \n",
       "2        Boats & Yachts Dealers|Boat Tours & Cruises         NaN          NaN   \n",
       "3  Architects & Architectural Services|Other Engi...   vancouver           ca   \n",
       "4                                                NaN    winnipeg           ca   \n",
       "5  Other schools|High Schools|Community Center|Ad...         NaN          NaN   \n",
       "6                                                NaN  port dover           ca   \n",
       "7                       Medical Supply Manufacturers   vancouver           ca   \n",
       "8                                     Book Publisher         NaN          NaN   \n",
       "9  Agriculture & Farm Associations|Garden Equipme...         NaN           ca   \n",
       "\n",
       "  country_name                                        description  \\\n",
       "0       france                                                NaN   \n",
       "1          NaN                                                NaN   \n",
       "2          NaN  At Rossiter Boats we build semi-custom power b...   \n",
       "3       canada                                                NaN   \n",
       "4       canada                                                NaN   \n",
       "5          NaN                                                NaN   \n",
       "6       canada  The Dover Cheese Shop is a food lover’s paradi...   \n",
       "7       canada  www.alphascientific.ca Alpha Scientific Repair...   \n",
       "8          NaN                                                NaN   \n",
       "9          NaN  Kingston's local supplier of quality sod, seed...   \n",
       "\n",
       "                        email                             link  \\\n",
       "0                         NaN       https://euro-hygiene-34.fr   \n",
       "1                         NaN  https://lakesidehomeservices.ca   \n",
       "2      info@rossiterboats.com         http://rossiterboats.com   \n",
       "3  office@caa-arcitecture.com      http://caa-architecture.com   \n",
       "4                         NaN            https://apexsurety.ca   \n",
       "5                         NaN           https://collins-cc.edu   \n",
       "6        info@dovercheese.com           http://dovercheese.com   \n",
       "7    sales@alphascientific.ca        http://alphascientific.ca   \n",
       "8                         NaN  https://modernmama.com/edmonton   \n",
       "9       info@unitysodfarm.com          http://unitysodfarm.com   \n",
       "\n",
       "                                    name      page_type         phone  \\\n",
       "0                           Euro Hygiène  LocalBusiness           NaN   \n",
       "1                 Lakeside Home Services  LocalBusiness  1.613832e+10   \n",
       "2                         Rossiter Boats  LocalBusiness           NaN   \n",
       "3  Chandler Associates Architecture Inc.  LocalBusiness  1.604687e+10   \n",
       "4           Apex Surety & Insurance Ltd.  LocalBusiness  1.204560e+10   \n",
       "5        Collins Career Technical Center  LocalBusiness           NaN   \n",
       "6                  The Dover Cheese Shop  LocalBusiness           NaN   \n",
       "7  Alpha Scientific Repair Services Ltd.  LocalBusiness  1.604690e+10   \n",
       "8                   Modern Mama Edmonton         Person           NaN   \n",
       "9                     Unity Sod Farm Ltd  LocalBusiness  1.613389e+10   \n",
       "\n",
       "  phone_country_code region_code       region_name zip_code  \n",
       "0                NaN         occ         occitanie    30420  \n",
       "1                 ca         NaN               NaN      NaN  \n",
       "2                NaN         NaN               NaN      NaN  \n",
       "3                 ca          bc  british columbia  v6b 1g1  \n",
       "4                 ca          mb          manitoba  r3l 2t7  \n",
       "5                NaN         NaN               NaN      NaN  \n",
       "6                NaN          on           ontario  n0a 1n0  \n",
       "7                 ca          bc  british columbia  v6p 5a2  \n",
       "8                NaN         NaN               NaN      NaN  \n",
       "9                 ca         NaN               NaN      NaN  "
      ]
     },
     "execution_count": 3,
     "metadata": {},
     "output_type": "execute_result"
    }
   ],
   "source": [
    "df_facebook.head(10)"
   ]
  },
  {
   "cell_type": "code",
   "execution_count": 4,
   "id": "2703cb50",
   "metadata": {},
   "outputs": [],
   "source": [
    "df_facebook = df_facebook.replace([np.inf, -np.inf], np.nan)  # Replace inf with NaN\n",
    "df_facebook = df_facebook.dropna()  # Drop rows with NaN"
   ]
  },
  {
   "cell_type": "code",
   "execution_count": 5,
   "id": "03f606ed",
   "metadata": {},
   "outputs": [
    {
     "data": {
      "text/plain": [
       "7        1.604690e+10\n",
       "32       1.905429e+10\n",
       "35       1.888684e+10\n",
       "42       1.905497e+10\n",
       "63       1.905470e+10\n",
       "             ...     \n",
       "71118    1.514227e+10\n",
       "71143    1.519885e+10\n",
       "71146    1.519858e+10\n",
       "71156    1.613962e+10\n",
       "71166    1.416792e+10\n",
       "Name: phone, Length: 4915, dtype: float64"
      ]
     },
     "execution_count": 5,
     "metadata": {},
     "output_type": "execute_result"
    }
   ],
   "source": [
    "df_facebook['phone']"
   ]
  },
  {
   "cell_type": "code",
   "execution_count": 6,
   "id": "3db9d3d7",
   "metadata": {},
   "outputs": [
    {
     "data": {
      "text/plain": [
       "7        16046903380\n",
       "32       19054288940\n",
       "35       18886836226\n",
       "42       19054972734\n",
       "63       19054699934\n",
       "            ...     \n",
       "71118    15142271451\n",
       "71143    15198851200\n",
       "71146    15198579444\n",
       "71156    16139621286\n",
       "71166    14167924420\n",
       "Name: phone_clean, Length: 4915, dtype: object"
      ]
     },
     "execution_count": 6,
     "metadata": {},
     "output_type": "execute_result"
    }
   ],
   "source": [
    "df_facebook['phone_clean'] = df_facebook['phone'].apply(lambda x: '{:.0f}'.format(x))\n",
    "df_facebook['phone_clean'] "
   ]
  },
  {
   "cell_type": "markdown",
   "id": "b515593a",
   "metadata": {},
   "source": [
    "### Google data"
   ]
  },
  {
   "cell_type": "code",
   "execution_count": 7,
   "id": "a6828688",
   "metadata": {},
   "outputs": [],
   "source": [
    "df_google = pd.read_csv(\"google_dataset.csv\", on_bad_lines='skip', dtype={6: str})"
   ]
  },
  {
   "cell_type": "code",
   "execution_count": 8,
   "id": "bc33bd0e",
   "metadata": {},
   "outputs": [
    {
     "data": {
      "text/html": [
       "<div>\n",
       "<style scoped>\n",
       "    .dataframe tbody tr th:only-of-type {\n",
       "        vertical-align: middle;\n",
       "    }\n",
       "\n",
       "    .dataframe tbody tr th {\n",
       "        vertical-align: top;\n",
       "    }\n",
       "\n",
       "    .dataframe thead th {\n",
       "        text-align: right;\n",
       "    }\n",
       "</style>\n",
       "<table border=\"1\" class=\"dataframe\">\n",
       "  <thead>\n",
       "    <tr style=\"text-align: right;\">\n",
       "      <th></th>\n",
       "      <th>address</th>\n",
       "      <th>category</th>\n",
       "      <th>city</th>\n",
       "      <th>country_code</th>\n",
       "      <th>country_name</th>\n",
       "      <th>name</th>\n",
       "      <th>phone</th>\n",
       "      <th>phone_country_code</th>\n",
       "      <th>raw_address</th>\n",
       "      <th>raw_phone</th>\n",
       "      <th>region_code</th>\n",
       "      <th>region_name</th>\n",
       "      <th>text</th>\n",
       "      <th>zip_code</th>\n",
       "      <th>domain</th>\n",
       "    </tr>\n",
       "  </thead>\n",
       "  <tbody>\n",
       "    <tr>\n",
       "      <th>0</th>\n",
       "      <td>28 Central Coast Hwy, West Gosford NSW 2250, A...</td>\n",
       "      <td>Fabric-Based Home Goods</td>\n",
       "      <td>gosford</td>\n",
       "      <td>au</td>\n",
       "      <td>australia</td>\n",
       "      <td>Spotlight West Gosford</td>\n",
       "      <td>+61243355946</td>\n",
       "      <td>au</td>\n",
       "      <td>West Gosford NSW, Australia</td>\n",
       "      <td>+61 2 4335 5946</td>\n",
       "      <td>nsw</td>\n",
       "      <td>new south wales</td>\n",
       "      <td>4.1 (766) · Craft store West Gosford NSW, Aust...</td>\n",
       "      <td>2250</td>\n",
       "      <td>spotlightstores.com</td>\n",
       "    </tr>\n",
       "    <tr>\n",
       "      <th>1</th>\n",
       "      <td>400 Scott St, St. Catharines, ON L2M 3W2, Canada</td>\n",
       "      <td>Book Stores</td>\n",
       "      <td>st. catharines</td>\n",
       "      <td>ca</td>\n",
       "      <td>canada</td>\n",
       "      <td>Heritage Christian Book Store</td>\n",
       "      <td>+19059374553</td>\n",
       "      <td>ca</td>\n",
       "      <td>400 Scott St · In Grantham Plaza</td>\n",
       "      <td>+1 905-937-4553</td>\n",
       "      <td>on</td>\n",
       "      <td>ontario</td>\n",
       "      <td>4.7 (100) · Book store 400 Scott St · In Grant...</td>\n",
       "      <td>l2m 3w2</td>\n",
       "      <td>bookmanager.com</td>\n",
       "    </tr>\n",
       "    <tr>\n",
       "      <th>2</th>\n",
       "      <td>191 Pleasant St, Yarmouth, NS B5A 2J9, Canada</td>\n",
       "      <td>Other Building Material Retailers</td>\n",
       "      <td>yarmouth</td>\n",
       "      <td>ca</td>\n",
       "      <td>canada</td>\n",
       "      <td>Pleasant Timber Mart</td>\n",
       "      <td>+19027429181</td>\n",
       "      <td>ca</td>\n",
       "      <td>7+ years in business · Yarmouth, NS, Canada</td>\n",
       "      <td>+1 902-742-9181</td>\n",
       "      <td>ns</td>\n",
       "      <td>nova scotia</td>\n",
       "      <td>4.7 (40) · Building materials store 7+ years i...</td>\n",
       "      <td>b5a 2j9</td>\n",
       "      <td>timbermart.ca</td>\n",
       "    </tr>\n",
       "  </tbody>\n",
       "</table>\n",
       "</div>"
      ],
      "text/plain": [
       "                                             address  \\\n",
       "0  28 Central Coast Hwy, West Gosford NSW 2250, A...   \n",
       "1   400 Scott St, St. Catharines, ON L2M 3W2, Canada   \n",
       "2      191 Pleasant St, Yarmouth, NS B5A 2J9, Canada   \n",
       "\n",
       "                            category            city country_code  \\\n",
       "0            Fabric-Based Home Goods         gosford           au   \n",
       "1                        Book Stores  st. catharines           ca   \n",
       "2  Other Building Material Retailers        yarmouth           ca   \n",
       "\n",
       "  country_name                           name         phone  \\\n",
       "0    australia         Spotlight West Gosford  +61243355946   \n",
       "1       canada  Heritage Christian Book Store  +19059374553   \n",
       "2       canada           Pleasant Timber Mart  +19027429181   \n",
       "\n",
       "  phone_country_code                                  raw_address  \\\n",
       "0                 au                  West Gosford NSW, Australia   \n",
       "1                 ca             400 Scott St · In Grantham Plaza   \n",
       "2                 ca  7+ years in business · Yarmouth, NS, Canada   \n",
       "\n",
       "         raw_phone region_code      region_name  \\\n",
       "0  +61 2 4335 5946         nsw  new south wales   \n",
       "1  +1 905-937-4553          on          ontario   \n",
       "2  +1 902-742-9181          ns      nova scotia   \n",
       "\n",
       "                                                text zip_code  \\\n",
       "0  4.1 (766) · Craft store West Gosford NSW, Aust...     2250   \n",
       "1  4.7 (100) · Book store 400 Scott St · In Grant...  l2m 3w2   \n",
       "2  4.7 (40) · Building materials store 7+ years i...  b5a 2j9   \n",
       "\n",
       "                domain  \n",
       "0  spotlightstores.com  \n",
       "1      bookmanager.com  \n",
       "2        timbermart.ca  "
      ]
     },
     "execution_count": 8,
     "metadata": {},
     "output_type": "execute_result"
    }
   ],
   "source": [
    "df_google.head(3)"
   ]
  },
  {
   "cell_type": "code",
   "execution_count": 9,
   "id": "dc420970",
   "metadata": {},
   "outputs": [],
   "source": [
    "df_google = df_google.replace([np.inf, -np.inf], np.nan)  # Replace inf with NaN\n",
    "df_google = df_google.dropna()  # Drop rows with NaN"
   ]
  },
  {
   "cell_type": "code",
   "execution_count": 10,
   "id": "774ef8d2",
   "metadata": {},
   "outputs": [
    {
     "data": {
      "text/plain": [
       "0          61243355946\n",
       "1          19059374553\n",
       "2          19027429181\n",
       "3          18184268353\n",
       "8          17023670822\n",
       "              ...     \n",
       "346902    441442232727\n",
       "346904     15194425588\n",
       "346913     15136413176\n",
       "346914     17804161571\n",
       "346920    447506791469\n",
       "Name: phone_clean, Length: 151582, dtype: object"
      ]
     },
     "execution_count": 10,
     "metadata": {},
     "output_type": "execute_result"
    }
   ],
   "source": [
    "df_google['phone_clean'] = df_google['phone'].apply(lambda x: str(x) if pd.notnull(x) else '').str.replace('+', '')\n",
    "df_google['phone_clean']"
   ]
  },
  {
   "cell_type": "markdown",
   "id": "51d168f7",
   "metadata": {},
   "source": [
    "### Website data"
   ]
  },
  {
   "cell_type": "code",
   "execution_count": 11,
   "id": "acac896a",
   "metadata": {},
   "outputs": [],
   "source": [
    "df_website = pd.read_csv(\"website_dataset.csv\",delimiter=';')"
   ]
  },
  {
   "cell_type": "code",
   "execution_count": 12,
   "id": "768bba41",
   "metadata": {},
   "outputs": [
    {
     "data": {
      "text/html": [
       "<div>\n",
       "<style scoped>\n",
       "    .dataframe tbody tr th:only-of-type {\n",
       "        vertical-align: middle;\n",
       "    }\n",
       "\n",
       "    .dataframe tbody tr th {\n",
       "        vertical-align: top;\n",
       "    }\n",
       "\n",
       "    .dataframe thead th {\n",
       "        text-align: right;\n",
       "    }\n",
       "</style>\n",
       "<table border=\"1\" class=\"dataframe\">\n",
       "  <thead>\n",
       "    <tr style=\"text-align: right;\">\n",
       "      <th></th>\n",
       "      <th>root_domain</th>\n",
       "      <th>domain_suffix</th>\n",
       "      <th>language</th>\n",
       "      <th>legal_name</th>\n",
       "      <th>main_city</th>\n",
       "      <th>main_country</th>\n",
       "      <th>main_region</th>\n",
       "      <th>phone</th>\n",
       "      <th>site_name</th>\n",
       "      <th>tld</th>\n",
       "      <th>s_category</th>\n",
       "    </tr>\n",
       "  </thead>\n",
       "  <tbody>\n",
       "    <tr>\n",
       "      <th>0</th>\n",
       "      <td>converterman.com</td>\n",
       "      <td>NaN</td>\n",
       "      <td>NaN</td>\n",
       "      <td>NaN</td>\n",
       "      <td>NaN</td>\n",
       "      <td>NaN</td>\n",
       "      <td>NaN</td>\n",
       "      <td>NaN</td>\n",
       "      <td>NaN</td>\n",
       "      <td>NaN</td>\n",
       "      <td>NaN</td>\n",
       "    </tr>\n",
       "    <tr>\n",
       "      <th>1</th>\n",
       "      <td>clothesencounter.ca</td>\n",
       "      <td>ca</td>\n",
       "      <td>en</td>\n",
       "      <td>NaN</td>\n",
       "      <td>cardigan</td>\n",
       "      <td>canada</td>\n",
       "      <td>prince edward island</td>\n",
       "      <td>13066937766</td>\n",
       "      <td>Clothes Encounter</td>\n",
       "      <td>ca</td>\n",
       "      <td>Shoes &amp; Other Footwear Stores</td>\n",
       "    </tr>\n",
       "    <tr>\n",
       "      <th>2</th>\n",
       "      <td>investa.com.au</td>\n",
       "      <td>com.au</td>\n",
       "      <td>en</td>\n",
       "      <td>Investa Wholesale Funds Management Limited</td>\n",
       "      <td>brisbane</td>\n",
       "      <td>australia</td>\n",
       "      <td>queensland</td>\n",
       "      <td>61282269300</td>\n",
       "      <td>Investa Property Group</td>\n",
       "      <td>au</td>\n",
       "      <td>Real Estate Developers</td>\n",
       "    </tr>\n",
       "  </tbody>\n",
       "</table>\n",
       "</div>"
      ],
      "text/plain": [
       "           root_domain domain_suffix language  \\\n",
       "0     converterman.com           NaN      NaN   \n",
       "1  clothesencounter.ca            ca       en   \n",
       "2       investa.com.au        com.au       en   \n",
       "\n",
       "                                   legal_name main_city main_country  \\\n",
       "0                                         NaN       NaN          NaN   \n",
       "1                                         NaN  cardigan       canada   \n",
       "2  Investa Wholesale Funds Management Limited  brisbane    australia   \n",
       "\n",
       "            main_region        phone               site_name  tld  \\\n",
       "0                   NaN          NaN                     NaN  NaN   \n",
       "1  prince edward island  13066937766       Clothes Encounter   ca   \n",
       "2            queensland  61282269300  Investa Property Group   au   \n",
       "\n",
       "                      s_category  \n",
       "0                            NaN  \n",
       "1  Shoes & Other Footwear Stores  \n",
       "2         Real Estate Developers  "
      ]
     },
     "execution_count": 12,
     "metadata": {},
     "output_type": "execute_result"
    }
   ],
   "source": [
    "df_website.head(3)"
   ]
  },
  {
   "cell_type": "code",
   "execution_count": 13,
   "id": "1a2cde97",
   "metadata": {},
   "outputs": [],
   "source": [
    "df_website = df_website.replace([np.inf, -np.inf], np.nan)  # Replace inf with NaN\n",
    "df_website = df_website.dropna()  # Drop rows with NaN"
   ]
  },
  {
   "cell_type": "code",
   "execution_count": 14,
   "id": "be3ab197",
   "metadata": {},
   "outputs": [
    {
     "data": {
      "text/plain": [
       "2        61282269300\n",
       "3        18775896640\n",
       "6        19053690553\n",
       "8        18076834405\n",
       "11       13069900067\n",
       "            ...     \n",
       "72009    18333020247\n",
       "72012    18009640520\n",
       "72015    14167427411\n",
       "72016    18663874467\n",
       "72017    12503902505\n",
       "Name: phone_clean, Length: 26271, dtype: object"
      ]
     },
     "execution_count": 14,
     "metadata": {},
     "output_type": "execute_result"
    }
   ],
   "source": [
    "df_website['phone_clean'] = df_website['phone']\n",
    "df_website['phone_clean'] "
   ]
  },
  {
   "cell_type": "markdown",
   "id": "ad0d96fd",
   "metadata": {},
   "source": [
    "#### Vizualizarea coloanelor"
   ]
  },
  {
   "cell_type": "code",
   "execution_count": 15,
   "id": "920c9fc4",
   "metadata": {},
   "outputs": [
    {
     "data": {
      "text/plain": [
       "['domain',\n",
       " 'address',\n",
       " 'categories',\n",
       " 'city',\n",
       " 'country_code',\n",
       " 'country_name',\n",
       " 'description',\n",
       " 'email',\n",
       " 'link',\n",
       " 'name',\n",
       " 'page_type',\n",
       " 'phone',\n",
       " 'phone_country_code',\n",
       " 'region_code',\n",
       " 'region_name',\n",
       " 'zip_code',\n",
       " 'phone_clean']"
      ]
     },
     "execution_count": 15,
     "metadata": {},
     "output_type": "execute_result"
    }
   ],
   "source": [
    "list(df_facebook.columns)"
   ]
  },
  {
   "cell_type": "code",
   "execution_count": 16,
   "id": "c1df64da",
   "metadata": {},
   "outputs": [
    {
     "data": {
      "text/plain": [
       "['address',\n",
       " 'category',\n",
       " 'city',\n",
       " 'country_code',\n",
       " 'country_name',\n",
       " 'name',\n",
       " 'phone',\n",
       " 'phone_country_code',\n",
       " 'raw_address',\n",
       " 'raw_phone',\n",
       " 'region_code',\n",
       " 'region_name',\n",
       " 'text',\n",
       " 'zip_code',\n",
       " 'domain',\n",
       " 'phone_clean']"
      ]
     },
     "execution_count": 16,
     "metadata": {},
     "output_type": "execute_result"
    }
   ],
   "source": [
    "list(df_google.columns)"
   ]
  },
  {
   "cell_type": "code",
   "execution_count": 17,
   "id": "6a64839f",
   "metadata": {},
   "outputs": [
    {
     "data": {
      "text/plain": [
       "['root_domain',\n",
       " 'domain_suffix',\n",
       " 'language',\n",
       " 'legal_name',\n",
       " 'main_city',\n",
       " 'main_country',\n",
       " 'main_region',\n",
       " 'phone',\n",
       " 'site_name',\n",
       " 'tld',\n",
       " 's_category',\n",
       " 'phone_clean']"
      ]
     },
     "execution_count": 17,
     "metadata": {},
     "output_type": "execute_result"
    }
   ],
   "source": [
    "list(df_website.columns)"
   ]
  },
  {
   "cell_type": "markdown",
   "id": "ac3884a3",
   "metadata": {},
   "source": [
    "## 1. What column will you use to join?\n"
   ]
  },
  {
   "cell_type": "markdown",
   "id": "8a367a26",
   "metadata": {},
   "source": [
    "phone - because the phone should identify the same entity"
   ]
  },
  {
   "cell_type": "code",
   "execution_count": 18,
   "id": "06858a27",
   "metadata": {},
   "outputs": [],
   "source": [
    "df_res = pd.merge(df_facebook[['phone_clean','categories','city','country_code','country_name','address', 'name', 'phone_country_code','region_code','region_name', 'zip_code','link', 'page_type']], \n",
    "                  df_google[['phone_clean', 'category','text','domain']], \n",
    "                  on='phone_clean')"
   ]
  },
  {
   "cell_type": "code",
   "execution_count": 19,
   "id": "81fb18ea",
   "metadata": {},
   "outputs": [
    {
     "data": {
      "text/plain": [
       "3696"
      ]
     },
     "execution_count": 19,
     "metadata": {},
     "output_type": "execute_result"
    }
   ],
   "source": [
    "df_res.shape[0]"
   ]
  },
  {
   "cell_type": "code",
   "execution_count": 20,
   "id": "549aae16",
   "metadata": {},
   "outputs": [
    {
     "data": {
      "text/html": [
       "<div>\n",
       "<style scoped>\n",
       "    .dataframe tbody tr th:only-of-type {\n",
       "        vertical-align: middle;\n",
       "    }\n",
       "\n",
       "    .dataframe tbody tr th {\n",
       "        vertical-align: top;\n",
       "    }\n",
       "\n",
       "    .dataframe thead th {\n",
       "        text-align: right;\n",
       "    }\n",
       "</style>\n",
       "<table border=\"1\" class=\"dataframe\">\n",
       "  <thead>\n",
       "    <tr style=\"text-align: right;\">\n",
       "      <th></th>\n",
       "      <th>phone_clean</th>\n",
       "      <th>categories</th>\n",
       "      <th>city</th>\n",
       "      <th>country_code</th>\n",
       "      <th>country_name</th>\n",
       "      <th>address</th>\n",
       "      <th>name</th>\n",
       "      <th>phone_country_code</th>\n",
       "      <th>region_code</th>\n",
       "      <th>region_name</th>\n",
       "      <th>zip_code</th>\n",
       "      <th>link</th>\n",
       "      <th>page_type</th>\n",
       "      <th>category</th>\n",
       "      <th>text</th>\n",
       "      <th>domain</th>\n",
       "    </tr>\n",
       "  </thead>\n",
       "  <tbody>\n",
       "    <tr>\n",
       "      <th>0</th>\n",
       "      <td>16046903380</td>\n",
       "      <td>Medical Supply Manufacturers</td>\n",
       "      <td>vancouver</td>\n",
       "      <td>ca</td>\n",
       "      <td>canada</td>\n",
       "      <td>8623 granville street unit 143, v6p 5a2, vanco...</td>\n",
       "      <td>Alpha Scientific Repair Services Ltd.</td>\n",
       "      <td>ca</td>\n",
       "      <td>bc</td>\n",
       "      <td>british columbia</td>\n",
       "      <td>v6p 5a2</td>\n",
       "      <td>http://alphascientific.ca</td>\n",
       "      <td>LocalBusiness</td>\n",
       "      <td>Medical Supply Manufacturers</td>\n",
       "      <td>No reviews · Medical equipment supplier Vancou...</td>\n",
       "      <td>alphascientific.ca</td>\n",
       "    </tr>\n",
       "    <tr>\n",
       "      <th>1</th>\n",
       "      <td>19054288940</td>\n",
       "      <td>Auto Services|Auto Parts Store|Automobile Deal...</td>\n",
       "      <td>ajax</td>\n",
       "      <td>ca</td>\n",
       "      <td>canada</td>\n",
       "      <td>195 westney road south, unit 5, l1s 2c9, ajax,...</td>\n",
       "      <td>Kingsway Transmission Ltd.</td>\n",
       "      <td>ca</td>\n",
       "      <td>on</td>\n",
       "      <td>ontario</td>\n",
       "      <td>l1s 2c9</td>\n",
       "      <td>http://kingswaytransmission.com</td>\n",
       "      <td>LocalBusiness</td>\n",
       "      <td>Auto Parts &amp; Repair Shops</td>\n",
       "      <td>4.9 (18) · Transmission shop 7+ years in busin...</td>\n",
       "      <td>kingswaytransmission.com</td>\n",
       "    </tr>\n",
       "    <tr>\n",
       "      <th>2</th>\n",
       "      <td>18886836226</td>\n",
       "      <td>Auto Services</td>\n",
       "      <td>winnipeg</td>\n",
       "      <td>ca</td>\n",
       "      <td>canada</td>\n",
       "      <td>unit b, 64 christopher st., r2c 2z2, winnipeg,...</td>\n",
       "      <td>Safe &amp; Smart Drive Canada Ltd.</td>\n",
       "      <td>us</td>\n",
       "      <td>mb</td>\n",
       "      <td>manitoba</td>\n",
       "      <td>r2c 2z2</td>\n",
       "      <td>http://safeandsmartdrive.com</td>\n",
       "      <td>LocalBusiness</td>\n",
       "      <td>Clinics - Surgeons &amp; Physicians</td>\n",
       "      <td>5.0 (54) · Diagnostic center 64 Christopher St...</td>\n",
       "      <td>safeandsmartdrive.com</td>\n",
       "    </tr>\n",
       "  </tbody>\n",
       "</table>\n",
       "</div>"
      ],
      "text/plain": [
       "   phone_clean                                         categories       city  \\\n",
       "0  16046903380                       Medical Supply Manufacturers  vancouver   \n",
       "1  19054288940  Auto Services|Auto Parts Store|Automobile Deal...       ajax   \n",
       "2  18886836226                                      Auto Services   winnipeg   \n",
       "\n",
       "  country_code country_name  \\\n",
       "0           ca       canada   \n",
       "1           ca       canada   \n",
       "2           ca       canada   \n",
       "\n",
       "                                             address  \\\n",
       "0  8623 granville street unit 143, v6p 5a2, vanco...   \n",
       "1  195 westney road south, unit 5, l1s 2c9, ajax,...   \n",
       "2  unit b, 64 christopher st., r2c 2z2, winnipeg,...   \n",
       "\n",
       "                                    name phone_country_code region_code  \\\n",
       "0  Alpha Scientific Repair Services Ltd.                 ca          bc   \n",
       "1             Kingsway Transmission Ltd.                 ca          on   \n",
       "2         Safe & Smart Drive Canada Ltd.                 us          mb   \n",
       "\n",
       "        region_name zip_code                             link      page_type  \\\n",
       "0  british columbia  v6p 5a2        http://alphascientific.ca  LocalBusiness   \n",
       "1           ontario  l1s 2c9  http://kingswaytransmission.com  LocalBusiness   \n",
       "2          manitoba  r2c 2z2     http://safeandsmartdrive.com  LocalBusiness   \n",
       "\n",
       "                          category  \\\n",
       "0     Medical Supply Manufacturers   \n",
       "1        Auto Parts & Repair Shops   \n",
       "2  Clinics - Surgeons & Physicians   \n",
       "\n",
       "                                                text                    domain  \n",
       "0  No reviews · Medical equipment supplier Vancou...        alphascientific.ca  \n",
       "1  4.9 (18) · Transmission shop 7+ years in busin...  kingswaytransmission.com  \n",
       "2  5.0 (54) · Diagnostic center 64 Christopher St...     safeandsmartdrive.com  "
      ]
     },
     "execution_count": 20,
     "metadata": {},
     "output_type": "execute_result"
    }
   ],
   "source": [
    "df_res.head(3)"
   ]
  },
  {
   "cell_type": "code",
   "execution_count": 21,
   "id": "6f7cdcea",
   "metadata": {},
   "outputs": [
    {
     "data": {
      "text/plain": [
       "Index(['phone_clean', 'categories', 'city', 'country_code', 'country_name',\n",
       "       'address', 'name', 'phone_country_code', 'region_code', 'region_name',\n",
       "       'zip_code', 'link', 'page_type', 'category', 'text', 'domain'],\n",
       "      dtype='object')"
      ]
     },
     "execution_count": 21,
     "metadata": {},
     "output_type": "execute_result"
    }
   ],
   "source": [
    "df_res.columns"
   ]
  },
  {
   "cell_type": "code",
   "execution_count": 22,
   "id": "a3e41334",
   "metadata": {},
   "outputs": [],
   "source": [
    "df_res_final = pd.merge(df_res, \n",
    "                        df_website[['phone_clean','site_name', 'language']], \n",
    "                        on='phone_clean')"
   ]
  },
  {
   "cell_type": "code",
   "execution_count": 23,
   "id": "d1c3cf8e",
   "metadata": {},
   "outputs": [
    {
     "data": {
      "text/plain": [
       "1313"
      ]
     },
     "execution_count": 23,
     "metadata": {},
     "output_type": "execute_result"
    }
   ],
   "source": [
    "df_res_final.shape[0]"
   ]
  },
  {
   "cell_type": "code",
   "execution_count": 24,
   "id": "01b52230",
   "metadata": {},
   "outputs": [
    {
     "data": {
      "text/html": [
       "<div>\n",
       "<style scoped>\n",
       "    .dataframe tbody tr th:only-of-type {\n",
       "        vertical-align: middle;\n",
       "    }\n",
       "\n",
       "    .dataframe tbody tr th {\n",
       "        vertical-align: top;\n",
       "    }\n",
       "\n",
       "    .dataframe thead th {\n",
       "        text-align: right;\n",
       "    }\n",
       "</style>\n",
       "<table border=\"1\" class=\"dataframe\">\n",
       "  <thead>\n",
       "    <tr style=\"text-align: right;\">\n",
       "      <th></th>\n",
       "      <th>phone_clean</th>\n",
       "      <th>categories</th>\n",
       "      <th>city</th>\n",
       "      <th>country_code</th>\n",
       "      <th>country_name</th>\n",
       "      <th>address</th>\n",
       "      <th>name</th>\n",
       "      <th>phone_country_code</th>\n",
       "      <th>region_code</th>\n",
       "      <th>region_name</th>\n",
       "      <th>zip_code</th>\n",
       "      <th>link</th>\n",
       "      <th>page_type</th>\n",
       "      <th>category</th>\n",
       "      <th>text</th>\n",
       "      <th>domain</th>\n",
       "      <th>site_name</th>\n",
       "      <th>language</th>\n",
       "    </tr>\n",
       "  </thead>\n",
       "  <tbody>\n",
       "    <tr>\n",
       "      <th>0</th>\n",
       "      <td>16046903380</td>\n",
       "      <td>Medical Supply Manufacturers</td>\n",
       "      <td>vancouver</td>\n",
       "      <td>ca</td>\n",
       "      <td>canada</td>\n",
       "      <td>8623 granville street unit 143, v6p 5a2, vanco...</td>\n",
       "      <td>Alpha Scientific Repair Services Ltd.</td>\n",
       "      <td>ca</td>\n",
       "      <td>bc</td>\n",
       "      <td>british columbia</td>\n",
       "      <td>v6p 5a2</td>\n",
       "      <td>http://alphascientific.ca</td>\n",
       "      <td>LocalBusiness</td>\n",
       "      <td>Medical Supply Manufacturers</td>\n",
       "      <td>No reviews · Medical equipment supplier Vancou...</td>\n",
       "      <td>alphascientific.ca</td>\n",
       "      <td>Alpha Scientific</td>\n",
       "      <td>en</td>\n",
       "    </tr>\n",
       "    <tr>\n",
       "      <th>1</th>\n",
       "      <td>19054288940</td>\n",
       "      <td>Auto Services|Auto Parts Store|Automobile Deal...</td>\n",
       "      <td>ajax</td>\n",
       "      <td>ca</td>\n",
       "      <td>canada</td>\n",
       "      <td>195 westney road south, unit 5, l1s 2c9, ajax,...</td>\n",
       "      <td>Kingsway Transmission Ltd.</td>\n",
       "      <td>ca</td>\n",
       "      <td>on</td>\n",
       "      <td>ontario</td>\n",
       "      <td>l1s 2c9</td>\n",
       "      <td>http://kingswaytransmission.com</td>\n",
       "      <td>LocalBusiness</td>\n",
       "      <td>Auto Parts &amp; Repair Shops</td>\n",
       "      <td>4.9 (18) · Transmission shop 7+ years in busin...</td>\n",
       "      <td>kingswaytransmission.com</td>\n",
       "      <td>Kingsway Transmission</td>\n",
       "      <td>en</td>\n",
       "    </tr>\n",
       "    <tr>\n",
       "      <th>2</th>\n",
       "      <td>18886836226</td>\n",
       "      <td>Auto Services</td>\n",
       "      <td>winnipeg</td>\n",
       "      <td>ca</td>\n",
       "      <td>canada</td>\n",
       "      <td>unit b, 64 christopher st., r2c 2z2, winnipeg,...</td>\n",
       "      <td>Safe &amp; Smart Drive Canada Ltd.</td>\n",
       "      <td>us</td>\n",
       "      <td>mb</td>\n",
       "      <td>manitoba</td>\n",
       "      <td>r2c 2z2</td>\n",
       "      <td>http://safeandsmartdrive.com</td>\n",
       "      <td>LocalBusiness</td>\n",
       "      <td>Clinics - Surgeons &amp; Physicians</td>\n",
       "      <td>5.0 (54) · Diagnostic center 64 Christopher St...</td>\n",
       "      <td>safeandsmartdrive.com</td>\n",
       "      <td>Safe and Smart Drive Canada</td>\n",
       "      <td>en</td>\n",
       "    </tr>\n",
       "  </tbody>\n",
       "</table>\n",
       "</div>"
      ],
      "text/plain": [
       "   phone_clean                                         categories       city  \\\n",
       "0  16046903380                       Medical Supply Manufacturers  vancouver   \n",
       "1  19054288940  Auto Services|Auto Parts Store|Automobile Deal...       ajax   \n",
       "2  18886836226                                      Auto Services   winnipeg   \n",
       "\n",
       "  country_code country_name  \\\n",
       "0           ca       canada   \n",
       "1           ca       canada   \n",
       "2           ca       canada   \n",
       "\n",
       "                                             address  \\\n",
       "0  8623 granville street unit 143, v6p 5a2, vanco...   \n",
       "1  195 westney road south, unit 5, l1s 2c9, ajax,...   \n",
       "2  unit b, 64 christopher st., r2c 2z2, winnipeg,...   \n",
       "\n",
       "                                    name phone_country_code region_code  \\\n",
       "0  Alpha Scientific Repair Services Ltd.                 ca          bc   \n",
       "1             Kingsway Transmission Ltd.                 ca          on   \n",
       "2         Safe & Smart Drive Canada Ltd.                 us          mb   \n",
       "\n",
       "        region_name zip_code                             link      page_type  \\\n",
       "0  british columbia  v6p 5a2        http://alphascientific.ca  LocalBusiness   \n",
       "1           ontario  l1s 2c9  http://kingswaytransmission.com  LocalBusiness   \n",
       "2          manitoba  r2c 2z2     http://safeandsmartdrive.com  LocalBusiness   \n",
       "\n",
       "                          category  \\\n",
       "0     Medical Supply Manufacturers   \n",
       "1        Auto Parts & Repair Shops   \n",
       "2  Clinics - Surgeons & Physicians   \n",
       "\n",
       "                                                text  \\\n",
       "0  No reviews · Medical equipment supplier Vancou...   \n",
       "1  4.9 (18) · Transmission shop 7+ years in busin...   \n",
       "2  5.0 (54) · Diagnostic center 64 Christopher St...   \n",
       "\n",
       "                     domain                    site_name language  \n",
       "0        alphascientific.ca             Alpha Scientific       en  \n",
       "1  kingswaytransmission.com        Kingsway Transmission       en  \n",
       "2     safeandsmartdrive.com  Safe and Smart Drive Canada       en  "
      ]
     },
     "execution_count": 24,
     "metadata": {},
     "output_type": "execute_result"
    }
   ],
   "source": [
    "df_res_final.head(3)"
   ]
  },
  {
   "cell_type": "code",
   "execution_count": 25,
   "id": "75d348ae",
   "metadata": {},
   "outputs": [
    {
     "data": {
      "text/plain": [
       "Index(['phone_clean', 'categories', 'city', 'country_code', 'country_name',\n",
       "       'address', 'name', 'phone_country_code', 'region_code', 'region_name',\n",
       "       'zip_code', 'link', 'page_type', 'category', 'text', 'domain',\n",
       "       'site_name', 'language'],\n",
       "      dtype='object')"
      ]
     },
     "execution_count": 25,
     "metadata": {},
     "output_type": "execute_result"
    }
   ],
   "source": [
    "df_res_final.columns"
   ]
  },
  {
   "cell_type": "markdown",
   "id": "252107dc",
   "metadata": {},
   "source": [
    "#### 2. If you have data conflicts once you join, which one do you believe?"
   ]
  },
  {
   "cell_type": "markdown",
   "id": "74eb2e33",
   "metadata": {},
   "source": [
    "I believe the data which the content is more completed. \n",
    "Example: I chose the first dataset (df_facebook) because I saw that in the website table, the link is split in 2 columns. \n",
    "I kept the data from the table where the link is full."
   ]
  },
  {
   "cell_type": "code",
   "execution_count": 26,
   "id": "4c4c91cc",
   "metadata": {},
   "outputs": [
    {
     "data": {
      "text/plain": [
       "7               http://alphascientific.ca\n",
       "32        http://kingswaytransmission.com\n",
       "35           http://safeandsmartdrive.com\n",
       "42              http://wrenchautotech.com\n",
       "63                 http://weightdoctor.ca\n",
       "                       ...               \n",
       "71118      https://pcdepotliquidation.com\n",
       "71143    http://parkdaleanimalhospital.ca\n",
       "71146          http://supersteamlondon.ca\n",
       "71156           http://vannerpainting.com\n",
       "71166      http://easttorontofootcare.com\n",
       "Name: link, Length: 4915, dtype: object"
      ]
     },
     "execution_count": 26,
     "metadata": {},
     "output_type": "execute_result"
    }
   ],
   "source": [
    "df_facebook.link"
   ]
  },
  {
   "cell_type": "code",
   "execution_count": 27,
   "id": "6e5c4020",
   "metadata": {},
   "outputs": [
    {
     "data": {
      "text/plain": [
       "2                    investa.com.au\n",
       "3                 timminsgarage.com\n",
       "6                 springboarddm.com\n",
       "8                      mdaccpap.com\n",
       "11            libertelightdance.com\n",
       "                    ...            \n",
       "72009                   lavapote.ca\n",
       "72012    wealthmanagementcanada.com\n",
       "72015    absolutedatadestruction.ca\n",
       "72016                       hhms.ca\n",
       "72017         studioaeinteriors.com\n",
       "Name: root_domain, Length: 26271, dtype: object"
      ]
     },
     "execution_count": 27,
     "metadata": {},
     "output_type": "execute_result"
    }
   ],
   "source": [
    "df_website.root_domain"
   ]
  },
  {
   "cell_type": "markdown",
   "id": "f4553518",
   "metadata": {},
   "source": [
    "#### 3. If you have very similar data, what information will you keep?"
   ]
  },
  {
   "cell_type": "markdown",
   "id": "3bf39341",
   "metadata": {},
   "source": [
    "I noticed that name from the facebook data is similar with google and website. \n",
    "I chose facebook because it has less data and the join should contain less rows than the least number of rows of the both tables"
   ]
  },
  {
   "cell_type": "code",
   "execution_count": 28,
   "id": "f9f9aa8a",
   "metadata": {},
   "outputs": [
    {
     "data": {
      "text/plain": [
       "7                Alpha Scientific Repair Services Ltd.\n",
       "32                          Kingsway Transmission Ltd.\n",
       "35                      Safe & Smart Drive Canada Ltd.\n",
       "42                               Wrench Auto Tech Inc.\n",
       "63                                       Weight Doctor\n",
       "                             ...                      \n",
       "71118                             PC Depot Liquidation\n",
       "71143                         Parkdale Animal Hospital\n",
       "71146    Super Steam London Carpet & Air Duct Cleaning\n",
       "71156                     Vanner Painting & Decorating\n",
       "71166                           East Toronto Foot Care\n",
       "Name: name, Length: 4915, dtype: object"
      ]
     },
     "execution_count": 28,
     "metadata": {},
     "output_type": "execute_result"
    }
   ],
   "source": [
    "df_facebook.name"
   ]
  },
  {
   "cell_type": "code",
   "execution_count": 29,
   "id": "eb3e58b6",
   "metadata": {},
   "outputs": [
    {
     "data": {
      "text/plain": [
       "0                     Spotlight West Gosford\n",
       "1              Heritage Christian Book Store\n",
       "2                       Pleasant Timber Mart\n",
       "3         Skin Specifics Medical Spa West LA\n",
       "8                    Torrey Pines KinderCare\n",
       "                         ...                \n",
       "346902                Greenhills Day Service\n",
       "346904               Centum A1 Financial Inc\n",
       "346913                    St. Clement Church\n",
       "346914       ASPEN APPLIANCE & FURNITURE INC\n",
       "346920                              Dina Nur\n",
       "Name: name, Length: 151582, dtype: object"
      ]
     },
     "execution_count": 29,
     "metadata": {},
     "output_type": "execute_result"
    }
   ],
   "source": [
    "df_google.name"
   ]
  },
  {
   "cell_type": "code",
   "execution_count": 30,
   "id": "13a30d3f",
   "metadata": {},
   "outputs": [
    {
     "data": {
      "text/plain": [
       "2               Investa Wholesale Funds Management Limited\n",
       "3                                      Timmins Garage Inc.\n",
       "6                                      The Hershey Company\n",
       "8                                            MDAC CPAP INC\n",
       "11               LIBERTE LIGHT DANCE, SCHOOL OF DANCE INC.\n",
       "                               ...                        \n",
       "72009                                       la Vapote inc.\n",
       "72012    Connor, Clark & Lunn Private Capital Ltd. (CC&...\n",
       "72015                       Absolute Data Destruction Inc.\n",
       "72016                       Healthy Home Maid Service Inc.\n",
       "72017                        Studio AE Interior Design Inc\n",
       "Name: legal_name, Length: 26271, dtype: object"
      ]
     },
     "execution_count": 30,
     "metadata": {},
     "output_type": "execute_result"
    }
   ],
   "source": [
    "df_website.legal_name"
   ]
  },
  {
   "cell_type": "code",
   "execution_count": null,
   "id": "c4fa3609",
   "metadata": {},
   "outputs": [],
   "source": []
  }
 ],
 "metadata": {
  "kernelspec": {
   "display_name": "Python 3 (ipykernel)",
   "language": "python",
   "name": "python3"
  },
  "language_info": {
   "codemirror_mode": {
    "name": "ipython",
    "version": 3
   },
   "file_extension": ".py",
   "mimetype": "text/x-python",
   "name": "python",
   "nbconvert_exporter": "python",
   "pygments_lexer": "ipython3",
   "version": "3.11.5"
  }
 },
 "nbformat": 4,
 "nbformat_minor": 5
}
